{
 "cells": [
  {
   "cell_type": "markdown",
   "metadata": {
    "slideshow": {
     "slide_type": "slide"
    }
   },
   "source": [
    "# An Overview of Scramjet Physics & Modeling\n",
    "\n",
    "## 2021-06-14 · N E Davis for [CEESD](https://ceesd.illinois.edu/)\n",
    "\n",
    "![](https://ceesd.illinois.edu/wp-content/uploads/2020/08/combustion.jpg)\n"
   ]
  },
  {
   "cell_type": "markdown",
   "metadata": {
    "slideshow": {
     "slide_type": "slide"
    }
   },
   "source": [
    "## Program\n",
    "\n",
    "1. Make sure you know how to submit your time worked (if applicable).\n",
    "2. Be in contact with your mentor.\n",
    "3. Put together a summer workplan this week (overall target + some intermediate targets) and let Carl and me know.\n",
    "4. COMMUNICATE COMMUNICATE COMMUNICATE\n"
   ]
  },
  {
   "cell_type": "markdown",
   "metadata": {
    "slideshow": {
     "slide_type": "slide"
    }
   },
   "source": [
    "## Objectives\n",
    "\n",
    "- Describe the qualitative behavior of a scramjet and distinguish it from other jet engines.\n",
    "- Identify quantities in governing equations and list consequences of MIRGE-Com's assumptions.\n",
    "- Distinguish experimental data collection from computer-based simulation data collection.\n"
   ]
  },
  {
   "cell_type": "markdown",
   "metadata": {
    "slideshow": {
     "slide_type": "slide"
    }
   },
   "source": [
    "## Jet Propulsion Systems\n",
    "\n",
    "1. Chemical rocket\n",
    "2. Turbojet engine\n",
    "3. Ramjet engine\n",
    "4. Scramjet engine\n",
    "\n",
    "![Hero's aeolipile, an ancient curiosity](https://upload.wikimedia.org/wikipedia/commons/b/b8/Aeolipile_illustration.png)"
   ]
  },
  {
   "cell_type": "markdown",
   "metadata": {
    "slideshow": {
     "slide_type": "slide"
    }
   },
   "source": [
    "## Newton's Third Law\n",
    "\n",
    "$$\n",
    "\\mathbf{F}_\\text{A}\n",
    "=\n",
    "-\\mathbf{F}_\\text{B}\n",
    "$$\n",
    "\n",
    "Action A equals reaction B; consider also conservation of momentum."
   ]
  },
  {
   "cell_type": "markdown",
   "metadata": {
    "slideshow": {
     "slide_type": "slide"
    }
   },
   "source": [
    "## Chemical Rocket\n",
    "\n",
    "- Self-contained, not air-breathing\n",
    "\n",
    "![https://www.grc.nasa.gov/www/k-12/rocket/lrockth.html](./img/rocket-engine.gif)\n"
   ]
  },
  {
   "cell_type": "markdown",
   "metadata": {
    "slideshow": {
     "slide_type": "slide"
    }
   },
   "source": [
    "## Turbojet\n",
    "\n",
    "- Air-breathing\n",
    "- Stators and rotors accelerate and compress\n",
    "\n",
    "![https://commons.wikimedia.org/wiki/File:Turbo_ram_scramjet_comparative_diagram.svg](./img/turbojet.png)\n"
   ]
  },
  {
   "cell_type": "markdown",
   "metadata": {
    "slideshow": {
     "slide_type": "slide"
    }
   },
   "source": [
    "## Ramjet\n",
    "\n",
    "- Air-breathing\n",
    "- No moving parts\n",
    "- High-speed (transonic or supersonic)\n",
    "- Requires external propulsion to get up to operating speed $>0.5 \\text{Ma}$\n",
    "\n",
    "![https://commons.wikimedia.org/wiki/File:Turbo_ram_scramjet_comparative_diagram.svg](./img/ramjet.png)\n"
   ]
  },
  {
   "cell_type": "markdown",
   "metadata": {
    "slideshow": {
     "slide_type": "slide"
    }
   },
   "source": [
    "## Scramjet\n",
    "\n",
    "- Air-breathing\n",
    "- No moving parts\n",
    "- High-speed (supersonic or hypersonic)\n",
    "- Requires external propulsion to get up to operating speed $> 1 \\text{Ma}$\n",
    "\n",
    "![https://commons.wikimedia.org/wiki/File:Turbo_ram_scramjet_comparative_diagram.svg](./img/scramjet.png)\n"
   ]
  },
  {
   "cell_type": "markdown",
   "metadata": {
    "slideshow": {
     "slide_type": "slide"
    }
   },
   "source": [
    "## Scramjet\n",
    "\n",
    "![](https://upload.wikimedia.org/wikipedia/commons/4/4f/Specific-impulse-kk-20090105.png)"
   ]
  },
  {
   "cell_type": "markdown",
   "metadata": {
    "slideshow": {
     "slide_type": "slide"
    }
   },
   "source": [
    "## Scramjet\n",
    "\n",
    "Steady-State Temperature Distribution:\n",
    "\n",
    "![](./img/isolator-ss.png)\n",
    "\n",
    "\n",
    "Supersonic inviscid flow exhibits sharp shockwaves starting at surfaces and propagating throughout the medium.  Streamlines can change discontinuously, making them relatively mathematically intractable."
   ]
  },
  {
   "cell_type": "markdown",
   "metadata": {
    "slideshow": {
     "slide_type": "slide"
    }
   },
   "source": [
    "## Scramjet\n",
    "\n",
    "> In a supersonic flow, because the local flow velocity is greater than the speed of sound, disturbances created at some point in the flow cannot work their way upstream (in contrast to subsonic flow). This property is one of the most significant physical differences between subsonic and supersonic flows. It is the basic reason why shock waves occur in supersonic flows but do not occur in steady subsonic flow.  [[Anderson, \"Flight (Aerodynamics)\"](https://www.sciencedirect.com/science/article/pii/B0122274105009157)]"
   ]
  },
  {
   "cell_type": "markdown",
   "metadata": {
    "slideshow": {
     "slide_type": "slide"
    }
   },
   "source": [
    "## Scramjet\n",
    "\n",
    "### Warm-Up Phase\n",
    "\n",
    "![](./img/isolator.gif)\n"
   ]
  },
  {
   "cell_type": "markdown",
   "metadata": {
    "slideshow": {
     "slide_type": "slide"
    }
   },
   "source": [
    "## Scramjet\n",
    "\n",
    "### Steady-State Phase\n",
    "\n",
    "![](./img/isolator-ss.png)\n",
    "\n",
    "- Diamonds are “radical farms” and “ignition hotspots”.\n",
    "- $x \\propto t$\n"
   ]
  },
  {
   "cell_type": "markdown",
   "metadata": {
    "slideshow": {
     "slide_type": "slide"
    }
   },
   "source": [
    "## Governing Equations\n",
    "\n",
    "### Navier-Stokes Equations\n",
    "\n",
    "$$\n",
    "\\frac{ \\partial \\left( \\rho \\varphi \\right) }{ \\partial t }\n",
    "+ \\nabla \\cdot \\left( \\rho \\vec{v} \\varphi \\right)\n",
    "= \\nabla \\cdot \\left( \\Gamma ^{\\varphi} \\nabla \\varphi \\right)\n",
    "+ Q ^{\\varphi} \\text{,}\n",
    "$$\n"
   ]
  },
  {
   "cell_type": "markdown",
   "metadata": {
    "slideshow": {
     "slide_type": "slide"
    }
   },
   "source": [
    "## Governing Equations\n",
    "\n",
    "### Navier-Stokes Equations\n",
    "\n",
    "$$\n",
    "\\int_{V_C} dV\\, \\nabla \\cdot \\left( \\rho \\vec{v} \\varphi \\right)\n",
    "= \\int_{V_C} dV\\, \\nabla \\cdot \\left( \\Gamma ^{\\varphi} \\nabla \\varphi \\right)\n",
    "+ \\int_{V_C} dV\\, Q ^{\\varphi} \\text{.}\n",
    "$$\n"
   ]
  },
  {
   "cell_type": "markdown",
   "metadata": {
    "slideshow": {
     "slide_type": "slide"
    }
   },
   "source": [
    "## Governing Equations\n",
    "\n",
    "### Navier-Stokes Equations\n",
    "\n",
    "$$\n",
    "\\oint_{\\partial V_C} d\\vec{S} \\cdot \\nabla \\cdot \\left( \\rho \\vec{v} \\varphi \\right)\n",
    "= \\oint_{\\partial V_C} d\\vec{S} \\cdot \\left( \\Gamma ^{\\varphi} \\nabla \\varphi \\right)\n",
    "+ \\int_{V_C} dV\\, Q ^{\\varphi} \\text{.}\n",
    "$$"
   ]
  },
  {
   "cell_type": "markdown",
   "metadata": {
    "slideshow": {
     "slide_type": "slide"
    }
   },
   "source": [
    "## Governing Equations\n",
    "\n",
    "## Momentum & Mass Conservation\n",
    "\n",
    "$$\n",
    "\\begin{align}\n",
    "  \\rho \\left(\\frac{\\partial u_x}{\\partial t} + u_x \\frac{\\partial u_x}{\\partial x} + u_y \\frac{\\partial u_x}{\\partial y} + u_z \\frac{\\partial u_x}{\\partial z}\\right)\n",
    "    =& -\\frac{\\partial p}{\\partial x} + \\mu \\left(\\frac{\\partial^2 u_x}{\\partial x^2} + \\frac{\\partial^2 u_x}{\\partial y^2} + \\frac{\\partial^2 u_x}{\\partial z^2}\\right) \\\\\n",
    "    & - \\mu \\frac{\\partial}{\\partial x} \\left( \\frac{\\partial u_x}{\\partial x} + \\frac{\\partial u_y}{\\partial y} + \\frac{\\partial u_z}{\\partial z} \\right) + \\rho g_x \\\\\n",
    "  \\rho \\left(\\frac{\\partial u_y}{\\partial t} + u_x \\frac{\\partial u_y}{\\partial x} + u_y \\frac{\\partial u_y}{\\partial y}+ u_z \\frac{\\partial u_y}{\\partial z}\\right)\n",
    "    =& -\\frac{\\partial p}{\\partial y} + \\mu \\left(\\frac{\\partial^2 u_y}{\\partial x^2} + \\frac{\\partial^2 u_y}{\\partial y^2} + \\frac{\\partial^2 u_y}{\\partial z^2}\\right) \\\\\n",
    "    & - \\mu \\frac{\\partial}{\\partial y} \\left( \\frac{\\partial u_x}{\\partial x} + \\frac{\\partial u_y}{\\partial y} + \\frac{\\partial u_z}{\\partial z} \\right) + \\rho g_y \\\\\n",
    "  \\rho \\left(\\frac{\\partial u_z}{\\partial t} + u_x \\frac{\\partial u_z}{\\partial x} + u_y \\frac{\\partial u_z}{\\partial y}+ u_z \\frac{\\partial u_z}{\\partial z}\\right)\n",
    "    =& -\\frac{\\partial p}{\\partial z} + \\mu \\left(\\frac{\\partial^2 u_z}{\\partial x^2} + \\frac{\\partial^2 u_z}{\\partial y^2} + \\frac{\\partial^2 u_z}{\\partial z^2}\\right) \\\\\n",
    "    & - \\mu \\frac{\\partial}{\\partial z} \\left( \\frac{\\partial u_x}{\\partial x} + \\frac{\\partial u_y}{\\partial y} + \\frac{\\partial u_z}{\\partial z} \\right) + \\rho g_z.\n",
    "\\end{align}\n",
    "$$\n",
    "\n",
    "$$\n",
    "{\\partial \\rho \\over \\partial t} + {\\partial (\\rho u_x ) \\over \\partial x} + {\\partial (\\rho u_y) \\over \\partial y} + {\\partial (\\rho u_z) \\over \\partial z} = 0.\n",
    "$$"
   ]
  },
  {
   "cell_type": "markdown",
   "metadata": {
    "slideshow": {
     "slide_type": "slide"
    }
   },
   "source": [
    "## Governing Equations\n",
    "\n",
    "## Momentum & Mass Conservation\n",
    "\n",
    "$$\n",
    "\\begin{align}\n",
    "  \\rho \\left(\\frac{\\partial u_x}{\\partial t} + u_x \\frac{\\partial u_x}{\\partial x} + u_y \\frac{\\partial u_x}{\\partial y} + u_z \\frac{\\partial u_x}{\\partial z}\\right)\n",
    "    =& -\\frac{\\partial p}{\\partial x} + \\mu \\left(\\frac{\\partial^2 u_x}{\\partial x^2} + \\frac{\\partial^2 u_x}{\\partial y^2} + \\frac{\\partial^2 u_x}{\\partial z^2}\\right) \\\\\n",
    "    & - \\mu \\frac{\\partial}{\\partial x} \\left( \\frac{\\partial u_x}{\\partial x} + \\frac{\\partial u_y}{\\partial y} + \\frac{\\partial u_z}{\\partial z} \\right) + \\rho g_x \\\\\n",
    "\\end{align}\n",
    "$$\n",
    "\n",
    "$$\n",
    "{\\partial \\rho \\over \\partial t} + {\\partial (\\rho u_x ) \\over \\partial x} + {\\partial (\\rho u_y) \\over \\partial y} + {\\partial (\\rho u_z) \\over \\partial z} = 0.\n",
    "$$\n",
    "\n",
    "- Which quantities appear in the Navier–Stokes equations?\n",
    "- Which quantities in the Navier–Stokes equations are conservative?\n",
    "- Compare equations to the [canonical MIRGE-Com formulation](https://mirgecom.readthedocs.io/en/latest/fluid.html).\n"
   ]
  },
  {
   "cell_type": "markdown",
   "metadata": {
    "slideshow": {
     "slide_type": "slide"
    }
   },
   "source": [
    "## Other Relationships\n",
    "\n",
    "**Non-dimensional thrust equation**:\n",
    "\n",
    "$$\n",
    "\\frac{T}{\\dot{m}_o a_o} = M_o\\left(\\frac{U_e}{U_o}-1\\right)\n",
    "$$\n",
    "\n",
    "**Ratio of inlet to outlet velocity**:\n",
    "\n",
    "$$\n",
    "\\frac{U_e}{U_o} = \\frac{M_e}{M_o} \\sqrt{\\frac{T_e}{T_o}}\n",
    "$$\n",
    "\n",
    "**Ramjet specific thrust** (across burner 3→4):\n",
    "\n",
    "$$\n",
    "\\frac{T}{\\dot{m}_o a_o} = M_o\\left(\\sqrt{\\frac{T_{t4}}{T_{t3}}}-1\\right)\n",
    "$$\n",
    "\n",
    "**Energy balance across burner**:\n",
    "\n",
    "$$\n",
    "\\dot{m}_f h = \\dot{m}_o c_p \\left(T_{t4}-T_{t3}\\right)\n",
    "$$\n"
   ]
  },
  {
   "cell_type": "markdown",
   "metadata": {
    "slideshow": {
     "slide_type": "slide"
    }
   },
   "source": [
    "## Other Relationships\n",
    "\n",
    "**Specific impulse**:\n",
    "\n",
    "$$\n",
    "I_\\text{sp} = \\frac{T}{\\dot{m}_f g}\n",
    "$$\n",
    "\n",
    "**Thrust specific fuel consumption**:\n",
    "\n",
    "$$\n",
    "\\text{TSFC} = \\frac{\\dot{m}_f}{T}\n",
    "$$\n",
    "\n",
    "**Overall efficiency**:\n",
    "\n",
    "$$\n",
    "\\eta = \\frac{T U_o}{\\dot{m}_f h}\n",
    "$$"
   ]
  },
  {
   "cell_type": "markdown",
   "metadata": {
    "slideshow": {
     "slide_type": "slide"
    }
   },
   "source": [
    "## Experimental Data\n",
    "\n",
    "Scramjet observational data are obtained two ways:  from wind tunnel experiments and from actual flights.\n",
    "\n",
    "![](https://ceesd.illinois.edu/wp-content/uploads/2020/08/flameholder.jpg)\n",
    "\n",
    "Data which can be obtained experimentally include:\n",
    "\n",
    "- Temperature and pressure distributions along various lines\n",
    "- Thrust and performance under various conditions\n",
    "- Fuel composition at sample points.\n"
   ]
  },
  {
   "cell_type": "markdown",
   "metadata": {
    "slideshow": {
     "slide_type": "slide"
    }
   },
   "source": [
    "## Challenges\n",
    "\n",
    "> While scramjets are conceptually simple, actual implementation is limited by extreme technical challenges. Hypersonic flight within the atmosphere generates immense drag, and temperatures found on the aircraft and within the engine can be much greater than that of the surrounding air. Maintaining combustion in the supersonic flow presents additional challenges, as the fuel must be injected, mixed, ignited, and burned within milliseconds. Fuel mixing, along with the configuration and positioning of the injectors and the boundary conditions, play a key role in combustion efficiency. [[Gerdroodbary, _Scramjets: Fuel Mixing and Injection Systems_](https://www.sciencedirect.com/book/9780128211380/scramjets)]\n",
    "\n",
    "Practical challenges to producing and operating scramjets include:\n",
    "\n",
    "- autoignition of the internal flow (\"like lighting a match in a hurricane\")\n",
    "- fuel–oxidizer mixing\n",
    "- developing heat-dissipative refractory materials\n",
    "- obtaining experimental data\n",
    "  - acquiring high-grade internal flow state\n",
    "  - visualizing phenomena such as shock waves\n"
   ]
  },
  {
   "cell_type": "markdown",
   "metadata": {
    "slideshow": {
     "slide_type": "slide"
    }
   },
   "source": [
    "## Exercises\n",
    "\n",
    "Complete these using a graphing calculator, Python, MATLAB, or Excel.\n",
    "\n",
    "1.  Plot $\\frac{T}{\\dot{m_a}}$ and $\\frac{T}{\\dot{m_a}a_0}$ v. Mach number $M$ from 1 to 5.\n",
    "2.  Plot $\\text{TSFC}$ v. Mach number $M$ from 1 to 5.\n",
    "3.  Plot $I_\\text{sp}$ v. Mach number $M$ from 1 to 5.\n",
    "4.  Plot thermal, propulsive, and overall efficiency v. Mach number $M$ from 1 to 5.\n",
    "\n",
    "given data:\n",
    "\n",
    "- $Q_R = 48,000 \\,\\text{kJ}/\\text{kg}$ for _n_-decane\n",
    "- $Q_R = 55,500 \\,\\text{kJ}/\\text{kg}$ for methane\n",
    "- $Q_R = 141,800 \\,\\text{kJ}/\\text{kg}$ for hydrogen\n",
    "- maximum combustion $T = 2000 \\,\\text{K}$\n",
    "\n",
    "(Based on an exercise by [D R Kirk, \"Hypersonic Airbreathing Engines\"](https://slideplayer.com/slide/14223195/).)"
   ]
  }
 ],
 "metadata": {
  "celltoolbar": "Slideshow",
  "kernelspec": {
   "display_name": "Python 3",
   "language": "python",
   "name": "python3"
  },
  "language_info": {
   "codemirror_mode": {
    "name": "ipython",
    "version": 3
   },
   "file_extension": ".py",
   "mimetype": "text/x-python",
   "name": "python",
   "nbconvert_exporter": "python",
   "pygments_lexer": "ipython3",
   "version": "3.8.5"
  }
 },
 "nbformat": 4,
 "nbformat_minor": 4
}
